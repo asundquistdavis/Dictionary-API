{
 "cells": [
  {
   "cell_type": "code",
   "execution_count": 25,
   "id": "3d03b534",
   "metadata": {},
   "outputs": [],
   "source": [
    "from distributions import build_distributions_df\n",
    "import pandas as pd"
   ]
  },
  {
   "cell_type": "code",
   "execution_count": 3,
   "id": "bb3a5a1f",
   "metadata": {},
   "outputs": [],
   "source": [
    "charset = 'abcdefghijklmnopqrstuvwxyz'\n",
    "df = build_distributions_df(charset)"
   ]
  },
  {
   "cell_type": "code",
   "execution_count": 5,
   "id": "500cf866",
   "metadata": {},
   "outputs": [],
   "source": [
    "df['total']=df.sum(axis=1)"
   ]
  },
  {
   "cell_type": "code",
   "execution_count": 16,
   "id": "585cba30",
   "metadata": {},
   "outputs": [],
   "source": [
    "df.to_csv('alpha-distr.csv')"
   ]
  },
  {
   "cell_type": "code",
   "execution_count": 28,
   "id": "ed1e4d74",
   "metadata": {},
   "outputs": [],
   "source": [
    "df_per_total = pd.DataFrame()\n",
    "for col in df.columns:\n",
    "    df_per_total[col]=df[col]/df['total']*100"
   ]
  },
  {
   "cell_type": "code",
   "execution_count": 31,
   "id": "d0998d41",
   "metadata": {
    "scrolled": true
   },
   "outputs": [
    {
     "data": {
      "text/plain": [
       "a          2.482693\n",
       "b          7.233230\n",
       "c          8.593937\n",
       "d          1.909764\n",
       "e          3.318214\n",
       "f          5.824779\n",
       "g          4.798281\n",
       "h          3.580807\n",
       "i          1.838148\n",
       "j          1.145858\n",
       "k          1.408451\n",
       "l          4.082120\n",
       "m          5.418954\n",
       "n          2.339460\n",
       "o          2.267844\n",
       "p          7.066126\n",
       "q          1.074242\n",
       "r          4.440201\n",
       "s         16.304607\n",
       "t          6.445452\n",
       "u          1.885892\n",
       "v          1.909764\n",
       "w          3.485319\n",
       "x          0.143232\n",
       "y          0.549057\n",
       "z          0.453569\n",
       "total    100.000000\n",
       "Name: 4, dtype: float64"
      ]
     },
     "execution_count": 31,
     "metadata": {},
     "output_type": "execute_result"
    }
   ],
   "source": [
    "df_per_total.loc[4,:]"
   ]
  },
  {
   "cell_type": "code",
   "execution_count": 33,
   "id": "aab79791",
   "metadata": {},
   "outputs": [
    {
     "data": {
      "text/plain": [
       "a         1482\n",
       "b         3472\n",
       "c         6374\n",
       "d         1311\n",
       "e         3209\n",
       "f         2621\n",
       "g         2082\n",
       "h         2478\n",
       "i         3313\n",
       "j          503\n",
       "k          506\n",
       "l         2149\n",
       "m         3616\n",
       "n         1232\n",
       "o         1890\n",
       "p         6119\n",
       "q          392\n",
       "r         3101\n",
       "s         7728\n",
       "t         3474\n",
       "u         1489\n",
       "v         1119\n",
       "w         1553\n",
       "x           70\n",
       "y          198\n",
       "z          196\n",
       "total    61677\n",
       "dtype: int64"
      ]
     },
     "execution_count": 33,
     "metadata": {},
     "output_type": "execute_result"
    }
   ],
   "source": [
    "df_sum = df.sum()\n",
    "df_sum"
   ]
  },
  {
   "cell_type": "code",
   "execution_count": null,
   "id": "901dc5f4",
   "metadata": {},
   "outputs": [],
   "source": []
  }
 ],
 "metadata": {
  "kernelspec": {
   "display_name": "Python 3 (ipykernel)",
   "language": "python",
   "name": "python3"
  },
  "language_info": {
   "codemirror_mode": {
    "name": "ipython",
    "version": 3
   },
   "file_extension": ".py",
   "mimetype": "text/x-python",
   "name": "python",
   "nbconvert_exporter": "python",
   "pygments_lexer": "ipython3",
   "version": "3.8.13"
  }
 },
 "nbformat": 4,
 "nbformat_minor": 5
}
