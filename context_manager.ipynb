{
 "cells": [
  {
   "cell_type": "code",
   "execution_count": 1,
   "id": "ea7d64b4",
   "metadata": {},
   "outputs": [
    {
     "name": "stderr",
     "output_type": "stream",
     "text": [
      "[WDM] - Downloading: 100%|█████████████████████████████████████████████████████| 6.68M/6.68M [00:00<00:00, 8.26MB/s]\n"
     ]
    }
   ],
   "source": [
    "from webdriver_manager.chrome import ChromeDriverManager\n",
    "from splinter import Browser\n",
    "from time import sleep\n",
    "executable_path = {'executable_path': ChromeDriverManager().install()}\n",
    "awesome_url = \"https://asundquistdavis.github.io/Web-Design-Challenge/index.html\""
   ]
  },
  {
   "cell_type": "code",
   "execution_count": 2,
   "id": "ac134c7b",
   "metadata": {},
   "outputs": [],
   "source": [
    "with Browser('chrome', **executable_path, headless=False) as browser:\n",
    "    browser.visit(awesome_url)\n",
    "    sleep(10)"
   ]
  }
 ],
 "metadata": {
  "kernelspec": {
   "display_name": "Python 3.8.13 ('PythonData38')",
   "language": "python",
   "name": "python3"
  },
  "language_info": {
   "codemirror_mode": {
    "name": "ipython",
    "version": 3
   },
   "file_extension": ".py",
   "mimetype": "text/x-python",
   "name": "python",
   "nbconvert_exporter": "python",
   "pygments_lexer": "ipython3",
   "version": "3.8.13"
  },
  "vscode": {
   "interpreter": {
    "hash": "2d229bbe5db09043ddee610e5fb2ae5bcea9a49c6032b3f9470f3331031611a9"
   }
  }
 },
 "nbformat": 4,
 "nbformat_minor": 5
}
