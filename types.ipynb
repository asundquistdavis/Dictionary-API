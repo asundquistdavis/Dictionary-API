{
 "cells": [
  {
   "cell_type": "code",
   "execution_count": 1,
   "id": "a120c43f",
   "metadata": {},
   "outputs": [],
   "source": [
    "import pandas as pd\n",
    "import csv\n",
    "from sqlalchemy import create_engine, Column, Integer, String, ForeignKey\n",
    "from sqlalchemy.orm import Session, declarative_base"
   ]
  },
  {
   "cell_type": "code",
   "execution_count": 2,
   "id": "6cc3d7da",
   "metadata": {},
   "outputs": [],
   "source": [
    "engine = create_engine('sqlite:///dictionary.sqlite')\n",
    "Base = declarative_base()"
   ]
  },
  {
   "cell_type": "code",
   "execution_count": 3,
   "id": "ec7ee7fe",
   "metadata": {},
   "outputs": [],
   "source": [
    "class Word(Base):\n",
    "    __tablename__ = 'word'\n",
    "    \n",
    "    id = Column(Integer, primary_key=True)\n",
    "    word = Column(String(45))\n",
    "\n",
    "class Definition(Base):\n",
    "    __tablename__ = 'definition'\n",
    "    \n",
    "    id = Column(Integer, primary_key=True)\n",
    "    word_id = Column(Integer, ForeignKey('word.id'), nullable=False)\n",
    "    type = Column(String(10))\n",
    "    definition = Column(String)"
   ]
  },
  {
   "cell_type": "code",
   "execution_count": null,
   "id": "11ff799d",
   "metadata": {
    "scrolled": true
   },
   "outputs": [],
   "source": [
    "with Session(engine) as s:\n",
    "    definitions = s.query(Definition).all()\n",
    "types = []\n",
    "for definition in definitions:\n",
    "    if definition.type not in types:\n",
    "        types.append(definition.type)\n",
    "\n",
    "print(types)"
   ]
  },
  {
   "cell_type": "code",
   "execution_count": null,
   "id": "b511b3f8",
   "metadata": {},
   "outputs": [],
   "source": [
    " type_dict = {}\n",
    "flag = []\n",
    "for t in types:\n",
    "    type_dict[t] = []\n",
    "    if 'adv.' in t:\n",
    "        type_dict[t].append('adverb')\n",
    "    elif 'v.' in t:\n",
    "        type_dict[t].append('verb')\n",
    "    if 'pron' in t:\n",
    "        type_dict[t].append('pronoun')\n",
    "    elif 'n.' in t or 'n .' == t or 'N.' == t:\n",
    "        type_dict[t].append('noun')\n",
    "    if 'interj' in t:\n",
    "        type_dict[t].append('interjection')\n",
    "    if 'a.' in t:\n",
    "        type_dict[t].append('adjective')\n",
    "    if 'con' in t:\n",
    "        type_dict[t].append('conjunction')\n",
    "    if 'prep.' in t:\n",
    "        type_dict[t].append('preposition')\n",
    "    if 'comp' in t.lower():\n",
    "        type_dict[t].append('comparison')\n",
    "    if 'object' in t:\n",
    "        type_dict[t].append('noun')\n",
    "    if 'p. p.' in t and ('verb' in type_dict[t]) == False:\n",
    "        type_dict[t].append('verb')\n",
    "    if 'p. pr.' in t and ('verb' in type_dict[t]) == False:\n",
    "        type_dict[t].append('verb')\n",
    "    if 'imp.' in t and ('verb' in type_dict[t]) == False:\n",
    "        type_dict[t].append('verb')\n",
    "    if 'obj.' == t:\n",
    "        type_dict[t].append('noun')\n",
    "    if '' == t or '/' == t or '/.' == t:\n",
    "        type_dict[t].append('none')\n",
    "    if len(type_dict[t]) == 0:\n",
    "        type_dict[t].append(t)\n",
    "        type_dict[t].append('other')"
   ]
  },
  {
   "cell_type": "code",
   "execution_count": null,
   "id": "22041c6d",
   "metadata": {},
   "outputs": [],
   "source": [
    "type_dict"
   ]
  },
  {
   "cell_type": "code",
   "execution_count": 4,
   "id": "66828ff9",
   "metadata": {},
   "outputs": [],
   "source": [
    "class Typemap(Base):\n",
    "    __tablename__ = 'typemap'\n",
    "\n",
    "    id = Column(Integer, primary_key=True)\n",
    "    base = Column(String(10))\n",
    "    converted = Column(String(10))"
   ]
  },
  {
   "cell_type": "code",
   "execution_count": 5,
   "id": "48d857f0",
   "metadata": {},
   "outputs": [],
   "source": [
    "Base.metadata.create_all(engine)"
   ]
  },
  {
   "cell_type": "code",
   "execution_count": null,
   "id": "8f42f340",
   "metadata": {},
   "outputs": [],
   "source": [
    "for bt, cts in type_dict.items():\n",
    "    for ct in cts:\n",
    "        with Session(engine) as s:\n",
    "            inst = Typemap(base=bt, converted=ct)\n",
    "            s.add(inst)\n",
    "            s.commit()"
   ]
  },
  {
   "cell_type": "code",
   "execution_count": null,
   "id": "e2282c79",
   "metadata": {},
   "outputs": [],
   "source": [
    "with Session(engine) as s:\n",
    "    q = s.query(Typemap).all()\n",
    "\n",
    "for t in q:\n",
    "    print(f'{t.base} ---> {t.converted}')"
   ]
  },
  {
   "cell_type": "code",
   "execution_count": null,
   "id": "7f35001e",
   "metadata": {},
   "outputs": [],
   "source": [
    "len(q)"
   ]
  },
  {
   "cell_type": "code",
   "execution_count": 9,
   "id": "135b5b0a",
   "metadata": {},
   "outputs": [],
   "source": [
    "with Session(engine) as s:\n",
    "    s.query(Definition).join(Typemap, Definition.type == Typemap.base).filter(Typemap.converted == 'comparison').all()"
   ]
  },
  {
   "cell_type": "code",
   "execution_count": null,
   "id": "bed7ad7e",
   "metadata": {},
   "outputs": [],
   "source": []
  }
 ],
 "metadata": {
  "kernelspec": {
   "display_name": "Python 3.8.13 ('PythonData38')",
   "language": "python",
   "name": "python3"
  },
  "language_info": {
   "codemirror_mode": {
    "name": "ipython",
    "version": 3
   },
   "file_extension": ".py",
   "mimetype": "text/x-python",
   "name": "python",
   "nbconvert_exporter": "python",
   "pygments_lexer": "ipython3",
   "version": "3.8.13"
  },
  "vscode": {
   "interpreter": {
    "hash": "2d229bbe5db09043ddee610e5fb2ae5bcea9a49c6032b3f9470f3331031611a9"
   }
  }
 },
 "nbformat": 4,
 "nbformat_minor": 5
}
